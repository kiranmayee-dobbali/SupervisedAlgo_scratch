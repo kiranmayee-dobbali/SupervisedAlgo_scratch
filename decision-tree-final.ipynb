{
 "cells": [
  {
   "cell_type": "code",
   "execution_count": 1,
   "metadata": {
    "_cell_guid": "b1076dfc-b9ad-4769-8c92-a6c4dae69d19",
    "_uuid": "8f2839f25d086af736a60e9eeb907d3b93b6e0e5"
   },
   "outputs": [
    {
     "name": "stdout",
     "output_type": "stream",
     "text": [
      "/kaggle/input/ml-fall2019-android-malware/readme.pdf\n",
      "/kaggle/input/ml-fall2019-android-malware/data/data/sample-solutions/sample.solution.all.positive.csv\n",
      "/kaggle/input/ml-fall2019-android-malware/data/data/sample-solutions/sample.solution.half-neg.csv\n",
      "/kaggle/input/ml-fall2019-android-malware/data/data/data-splits/data.train\n",
      "/kaggle/input/ml-fall2019-android-malware/data/data/data-splits/eval.id\n",
      "/kaggle/input/ml-fall2019-android-malware/data/data/data-splits/data.eval.anon\n",
      "/kaggle/input/ml-fall2019-android-malware/data/data/data-splits/data.test\n"
     ]
    }
   ],
   "source": [
    "# This Python 3 environment comes with many helpful analytics libraries installed\n",
    "# It is defined by the kaggle/python docker image: https://github.com/kaggle/docker-python\n",
    "# For example, here's several helpful packages to load in \n",
    "\n",
    "import numpy as np # linear algebra\n",
    "import pandas as pd # data processing, CSV file I/O (e.g. pd.read_csv)\n",
    "\n",
    "# Input data files are available in the \"../input/\" directory.\n",
    "# For example, running this (by clicking run or pressing Shift+Enter) will list all files under the input directory\n",
    "\n",
    "import os\n",
    "for dirname, _, filenames in os.walk('/kaggle/input'):\n",
    "    for filename in filenames:\n",
    "        print(os.path.join(dirname, filename))\n",
    "\n",
    "# Any results you write to the current directory are saved as output.\n",
    "#resources used:https://www.youtube.com/channel/UCCtkE-r-0Mvp7PwAvxzSdvw"
   ]
  },
  {
   "cell_type": "code",
   "execution_count": 2,
   "metadata": {
    "_cell_guid": "79c7e3d0-c299-4dcb-8224-4455121ee9b0",
    "_uuid": "d629ff2d2480ee46fbb7e2d37f6b5fab8052498a"
   },
   "outputs": [],
   "source": [
    "## convert libsvm to sparse matrix\n",
    "from scipy.sparse import csr_matrix\n",
    "import numpy as np\n",
    "import statistics\n",
    "import glob\n",
    "import numpy as np\n",
    "import pandas as pd\n",
    "import random\n",
    "from sklearn import preprocessing"
   ]
  },
  {
   "cell_type": "code",
   "execution_count": 3,
   "metadata": {},
   "outputs": [],
   "source": [
    "from scipy.sparse import csr_matrix\n",
    "import numpy as np\n",
    "def read_libsvm(fname, num_features=0):\n",
    "    '''\n",
    "        Reads a libsvm formatted data and outputs the training set (sparse matrix)[1], \n",
    "        the label set and the number of features. The number of features\n",
    "        can either be provided as a parameter or inferred from the data.\n",
    "\n",
    "\t\tExample usage:\n",
    "\t\t\n",
    "\t\tX_train, y_train, num_features = read_libsvm('data_train')\n",
    "\t\tX_test, y_test, _ = read_libsvm('data_test', num_features)\n",
    "\n",
    "\t\t[1] https://docs.scipy.org/doc/scipy/reference/generated/scipy.sparse.csr_matrix.html\n",
    "\t'''\n",
    "    data = []\n",
    "    y = []\n",
    "    row_ind = []\n",
    "    col_ind = []\n",
    "    with open(fname) as f:\n",
    "        lines = f.readlines()\n",
    "        for i, line in enumerate(lines):\n",
    "            elements = line.split()\n",
    "            y.append(int(elements[0]))\n",
    "            for el in elements[1:]:\n",
    "                row_ind.append(i)\n",
    "                c, v = el.split(\":\")\n",
    "                col_ind.append(int(c))\n",
    "                data.append(float(v))\n",
    "    if num_features == 0:\n",
    "        num_features = max(col_ind) + 1\n",
    "    X = csr_matrix((data, (row_ind, col_ind)), shape=(len(y), num_features+1))\n",
    "\n",
    "    return X, np.array(y), num_features"
   ]
  },
  {
   "cell_type": "code",
   "execution_count": 4,
   "metadata": {},
   "outputs": [],
   "source": [
    "X_train, y_train, num_features = read_libsvm('/kaggle/input/ml-fall2019-android-malware/data/data/data-splits/data.train',0)\n",
    "X_test, y_test, _ = read_libsvm('/kaggle/input/ml-fall2019-android-malware/data/data/data-splits/data.test', 0)\n",
    "X_eval, y_eval, _ = read_libsvm('/kaggle/input/ml-fall2019-android-malware/data/data/data-splits/data.eval.anon', 0)\n",
    "X_train_df = pd.DataFrame(X_train.toarray())\n",
    "X_test_df= pd.DataFrame(X_test.toarray())\n",
    "X_eval_df = pd.DataFrame(X_eval.toarray())"
   ]
  },
  {
   "cell_type": "code",
   "execution_count": 5,
   "metadata": {},
   "outputs": [],
   "source": [
    "def convert(col):\n",
    "    #print(col)\n",
    "    median = col.median()\n",
    "    #print(\"m\",median)\n",
    "    col[col<median]=0\n",
    "    col[col>median]=1\n",
    "    return col\n",
    "\n",
    "X_train_df = X_train_df.apply(convert,axis=0)\n",
    "X_train_to = X_train_df.copy()\n",
    "X_train_df['label'] = y_train\n",
    "\n",
    "########    \n",
    "X_test_df = X_test_df.apply(convert,axis=0)\n",
    "X_eval_df = X_eval_df.apply(convert,axis=0)"
   ]
  },
  {
   "cell_type": "code",
   "execution_count": 6,
   "metadata": {},
   "outputs": [],
   "source": [
    "def check_labels_same_data(data):\n",
    "    \n",
    "    label = data[:, -1]\n",
    "    uniqueValues, _ = np.unique(label, return_counts=True)\n",
    "    if len(uniqueValues) == 1:\n",
    "        return True\n",
    "    else:\n",
    "        return False"
   ]
  },
  {
   "cell_type": "code",
   "execution_count": 7,
   "metadata": {},
   "outputs": [],
   "source": [
    "def classify_data(data):\n",
    "    \n",
    "    label_column = data[:, -1]\n",
    "    unique_classes, counts_unique_classes = np.unique(label_column, return_counts=True)\n",
    "\n",
    "    index = counts_unique_classes.argmax()\n",
    "    classification = unique_classes[index]\n",
    "    \n",
    "    return classification"
   ]
  },
  {
   "cell_type": "code",
   "execution_count": 8,
   "metadata": {},
   "outputs": [],
   "source": [
    "def split_points(data):\n",
    "    \n",
    "    potential_splits = {}\n",
    "    _, columns = data.shape\n",
    "    for index in range(columns - 1):       \n",
    "        values = data[:, index]\n",
    "        uniqueValues, _ = np.unique(values, return_counts=True)\n",
    "        potential_splits[index] = uniqueValues\n",
    "    \n",
    "    return potential_splits"
   ]
  },
  {
   "cell_type": "code",
   "execution_count": 9,
   "metadata": {},
   "outputs": [],
   "source": [
    "def data_divide_2(data, split_column, split_value):  \n",
    "    column_values = data[:, split_column]\n",
    "    less_data = data[column_values == split_value]\n",
    "    more_data = data[column_values != split_value]\n",
    "\n",
    "    return less_data, more_data"
   ]
  },
  {
   "cell_type": "code",
   "execution_count": 10,
   "metadata": {},
   "outputs": [],
   "source": [
    "\n",
    "def expected_entropy(data):\n",
    "    \n",
    "    label = data[:, -1]\n",
    "    _, num = np.unique(label, return_counts=True)\n",
    "\n",
    "    prob = num / num.sum()\n",
    "    entropy = sum(prob * -np.log2(prob))\n",
    "     \n",
    "    return entropy"
   ]
  },
  {
   "cell_type": "code",
   "execution_count": 11,
   "metadata": {},
   "outputs": [],
   "source": [
    "def calculate_entropy(less_data, more_data):\n",
    "    \n",
    "    n = len(less_data) + len(more_data)\n",
    "    p_data_below = len(less_data) / n\n",
    "    p_data_above = len(more_data) / n\n",
    "\n",
    "    overall_entropy =  (p_data_below * expected_entropy(less_data) \n",
    "                      + p_data_above * expected_entropy(more_data))\n",
    "    \n",
    "    return overall_entropy"
   ]
  },
  {
   "cell_type": "code",
   "execution_count": 12,
   "metadata": {},
   "outputs": [],
   "source": [
    "def determine_best_split(data, potential_splits):\n",
    "    \n",
    "    overall_entropy = 9999\n",
    "    for column_index in potential_splits:\n",
    "        for value in potential_splits[column_index]:\n",
    "            data_below, data_above = data_divide_2(data, split_column=column_index, split_value=value)\n",
    "            current_overall_entropy = calculate_entropy(data_below, data_above)\n",
    "\n",
    "            if current_overall_entropy <= overall_entropy:\n",
    "                overall_entropy = current_overall_entropy\n",
    "                best_split_column = column_index\n",
    "                best_split_value = value\n",
    "    \n",
    "    return best_split_column, best_split_value"
   ]
  },
  {
   "cell_type": "code",
   "execution_count": 13,
   "metadata": {},
   "outputs": [],
   "source": [
    "def decision_tree_algorithm(df, counter=0, min_samples=2, max_depth=5):\n",
    "    \n",
    "    if counter == 0:\n",
    "        global COLUMN_HEADERS, FEATURE_TYPES\n",
    "        COLUMN_HEADERS = df.columns\n",
    "        data = df.values\n",
    "    else:\n",
    "        data = df           \n",
    "     \n",
    "    if (check_labels_same_data(data)) or (len(data) < min_samples) or (counter == max_depth):\n",
    "        classification = classify_data(data)\n",
    "        \n",
    "        return classification\n",
    "\n",
    "    else:\n",
    "\n",
    "        counter += 1\n",
    "\n",
    "        potential_splits = split_points(data)\n",
    "        split_column, split_value = determine_best_split(data, potential_splits)\n",
    "        data_below, data_above = data_divide_2(data, split_column, split_value)\n",
    "\n",
    "        if len(data_below) == 0 or len(data_above) == 0:\n",
    "            classification = classify_data(data)\n",
    "            return classification\n",
    "\n",
    "        feature_name = COLUMN_HEADERS[split_column]\n",
    "\n",
    "        question = \"{} = {}\".format(feature_name, split_value)\n",
    "\n",
    "        sub_tree = {question: []}\n",
    "\n",
    "        true = decision_tree_algorithm(data_below, counter, min_samples, max_depth)\n",
    "        false = decision_tree_algorithm(data_above, counter, min_samples, max_depth)\n",
    "\n",
    "        if true == false:\n",
    "            sub_tree = true\n",
    "        else:\n",
    "            sub_tree[question].append(true)\n",
    "            sub_tree[question].append(false)\n",
    "\n",
    "        return sub_tree"
   ]
  },
  {
   "cell_type": "code",
   "execution_count": 14,
   "metadata": {},
   "outputs": [],
   "source": [
    "def classify_example(example, tree):\n",
    "    question = list(tree.keys())[0]\n",
    "    feature_name, comparison_operator, value = question.split(\" \")\n",
    "    if comparison_operator == \"=\":\n",
    "        if example[int(feature_name)] == float(value):\n",
    "            answer = tree[question][0]\n",
    "        else:\n",
    "            answer = tree[question][1]\n",
    "     \n",
    "    if not isinstance(answer, dict):\n",
    "        return answer\n",
    "    \n",
    "    # recursive part\n",
    "    else:\n",
    "    \n",
    "        residual_tree = answer\n",
    "        return classify_example(example, residual_tree)"
   ]
  },
  {
   "cell_type": "code",
   "execution_count": 15,
   "metadata": {},
   "outputs": [],
   "source": [
    "\n",
    "def calculate_accuracy(df,tree):\n",
    "    predict_list= df.apply(classify_example, args=(tree,), axis=1)\n",
    "    return predict_list"
   ]
  },
  {
   "cell_type": "markdown",
   "metadata": {},
   "source": [
    "> TRAINING DECISION TREE AND FINDING BEST DEPTH "
   ]
  },
  {
   "cell_type": "code",
   "execution_count": 16,
   "metadata": {},
   "outputs": [
    {
     "name": "stdout",
     "output_type": "stream",
     "text": [
      "depth= 3 **********************\n",
      "Accuracy: 0.7289608850256816\n",
      "Precision: 0.5600843288826423\n",
      "Recall: 0.9299883313885647\n",
      "depth= 25 **********************\n",
      "Accuracy: 0.8474911102331094\n",
      "Precision: 0.7497348886532343\n",
      "Recall: 0.8249708284714119\n",
      "depth= 50 **********************\n",
      "Accuracy: 0.8506519162386409\n",
      "Precision: 0.7539766702014846\n",
      "Recall: 0.8296382730455076\n",
      "depth= 100 **********************\n",
      "Accuracy: 0.8506519162386409\n",
      "Precision: 0.7539766702014846\n",
      "Recall: 0.8296382730455076\n"
     ]
    }
   ],
   "source": [
    "import collections, numpy\n",
    "import sklearn.metrics as metrics\n",
    "\n",
    "for d in [3,25,50,100]:\n",
    "    print(\"depth=\",d,\"**********************\")\n",
    "    tree = decision_tree_algorithm(X_train_df,max_depth = d)    \n",
    "    predict_list = calculate_accuracy(X_test_df, tree)\n",
    "    y_predict = predict_list.tolist()\n",
    "    print(\"Accuracy:\",metrics.accuracy_score(y_test, y_predict))\n",
    "    print(\"Precision:\",metrics.precision_score(y_test, y_predict))\n",
    "    print(\"Recall:\",metrics.recall_score(y_test, y_predict))"
   ]
  },
  {
   "cell_type": "code",
   "execution_count": 17,
   "metadata": {},
   "outputs": [
    {
     "data": {
      "image/png": "[encoded data removed]",
      "text/plain": [
       "<Figure size 432x288 with 1 Axes>"
      ]
     },
     "metadata": {
      "needs_background": "light"
     },
     "output_type": "display_data"
    }
   ],
   "source": [
    "import matplotlib.pyplot as plt\n",
    "plt.plot([3, 25, 50, 100], [72.8, 84.74, 85.065, 85.06])\n",
    "plt.ylabel('Accuracy')\n",
    "plt.xlabel('Depth')\n",
    "plt.show()"
   ]
  },
  {
   "cell_type": "markdown",
   "metadata": {},
   "source": [
    "TRAINING ACCURACY FOR BEST TREE"
   ]
  },
  {
   "cell_type": "code",
   "execution_count": 18,
   "metadata": {},
   "outputs": [
    {
     "name": "stdout",
     "output_type": "stream",
     "text": [
      "Accuracy: 0.95643016980387\n"
     ]
    }
   ],
   "source": [
    "predict_list = calculate_accuracy(X_train_df, tree)\n",
    "y_predict = predict_list.tolist()\n",
    "print(\"Accuracy:\",metrics.accuracy_score(y_train, y_predict))"
   ]
  },
  {
   "cell_type": "markdown",
   "metadata": {},
   "source": [
    "PREDICTING ON EVAL DATA"
   ]
  },
  {
   "cell_type": "code",
   "execution_count": 19,
   "metadata": {},
   "outputs": [
    {
     "name": "stdout",
     "output_type": "stream",
     "text": [
      "depth=  25\n",
      "Counter({0.0: 1593, 1.0: 939})\n",
      "[1. 0. 1. ... 0. 0. 0.]\n",
      "[1 0 1 ... 0 0 0]\n"
     ]
    }
   ],
   "source": [
    "import collections, numpy\n",
    "import sklearn.metrics as metrics\n",
    "\n",
    "for d in [25]:\n",
    "    print(\"depth= \",d)\n",
    "    predict_list = calculate_accuracy(X_eval_df, tree)\n",
    "    y_predict = predict_list.tolist()\n",
    "    print(collections.Counter(y_predict))\n",
    "y_predict = np.array(y_predict)\n",
    "print(y_predict)\n",
    "y_predict= np.where(y_predict==1.0,1,0)\n",
    "print(y_predict)"
   ]
  },
  {
   "cell_type": "markdown",
   "metadata": {},
   "source": [
    "CODE FOR DOWNLOADING CSV FILE"
   ]
  },
  {
   "cell_type": "code",
   "execution_count": 20,
   "metadata": {},
   "outputs": [],
   "source": [
    "eval_id_list=[]\n",
    "with open(\"/kaggle/input/ml-fall2019-android-malware/data/data/data-splits/eval.id\") as f:\n",
    "    lines = f.readlines()\n",
    "    \n",
    "for ele in lines:\n",
    "    ele=ele.rstrip(\"\\n\")\n",
    "    eval_id_list.append(ele) "
   ]
  },
  {
   "cell_type": "code",
   "execution_count": 21,
   "metadata": {},
   "outputs": [
    {
     "data": {
      "text/html": [
       "<div>\n",
       "<style scoped>\n",
       "    .dataframe tbody tr th:only-of-type {\n",
       "        vertical-align: middle;\n",
       "    }\n",
       "\n",
       "    .dataframe tbody tr th {\n",
       "        vertical-align: top;\n",
       "    }\n",
       "\n",
       "    .dataframe thead th {\n",
       "        text-align: right;\n",
       "    }\n",
       "</style>\n",
       "<table border=\"1\" class=\"dataframe\">\n",
       "  <thead>\n",
       "    <tr style=\"text-align: right;\">\n",
       "      <th></th>\n",
       "      <th>example_id</th>\n",
       "      <th>label</th>\n",
       "    </tr>\n",
       "  </thead>\n",
       "  <tbody>\n",
       "    <tr>\n",
       "      <th>0</th>\n",
       "      <td>2591</td>\n",
       "      <td>1</td>\n",
       "    </tr>\n",
       "    <tr>\n",
       "      <th>1</th>\n",
       "      <td>10174</td>\n",
       "      <td>0</td>\n",
       "    </tr>\n",
       "    <tr>\n",
       "      <th>2</th>\n",
       "      <td>4764</td>\n",
       "      <td>1</td>\n",
       "    </tr>\n",
       "    <tr>\n",
       "      <th>3</th>\n",
       "      <td>5429</td>\n",
       "      <td>1</td>\n",
       "    </tr>\n",
       "    <tr>\n",
       "      <th>4</th>\n",
       "      <td>11235</td>\n",
       "      <td>0</td>\n",
       "    </tr>\n",
       "    <tr>\n",
       "      <th>...</th>\n",
       "      <td>...</td>\n",
       "      <td>...</td>\n",
       "    </tr>\n",
       "    <tr>\n",
       "      <th>2527</th>\n",
       "      <td>1681</td>\n",
       "      <td>0</td>\n",
       "    </tr>\n",
       "    <tr>\n",
       "      <th>2528</th>\n",
       "      <td>9320</td>\n",
       "      <td>0</td>\n",
       "    </tr>\n",
       "    <tr>\n",
       "      <th>2529</th>\n",
       "      <td>2301</td>\n",
       "      <td>0</td>\n",
       "    </tr>\n",
       "    <tr>\n",
       "      <th>2530</th>\n",
       "      <td>1175</td>\n",
       "      <td>0</td>\n",
       "    </tr>\n",
       "    <tr>\n",
       "      <th>2531</th>\n",
       "      <td>10984</td>\n",
       "      <td>0</td>\n",
       "    </tr>\n",
       "  </tbody>\n",
       "</table>\n",
       "<p>2532 rows × 2 columns</p>\n",
       "</div>"
      ],
      "text/plain": [
       "     example_id  label\n",
       "0          2591      1\n",
       "1         10174      0\n",
       "2          4764      1\n",
       "3          5429      1\n",
       "4         11235      0\n",
       "...         ...    ...\n",
       "2527       1681      0\n",
       "2528       9320      0\n",
       "2529       2301      0\n",
       "2530       1175      0\n",
       "2531      10984      0\n",
       "\n",
       "[2532 rows x 2 columns]"
      ]
     },
     "execution_count": 21,
     "metadata": {},
     "output_type": "execute_result"
    }
   ],
   "source": [
    "list_of_tuples = list(zip(eval_id_list, y_predict))  \n",
    "    \n",
    "# Assign data to tuples.  \n",
    "list_of_tuples   \n",
    "  \n",
    "  \n",
    "# Converting lists of tuples into  \n",
    "# pandas Dataframe.  \n",
    "df_new = pd.DataFrame(list_of_tuples, columns = ['example_id', 'label'])  \n",
    "     \n",
    "# Print data.  \n",
    "df_new"
   ]
  },
  {
   "cell_type": "code",
   "execution_count": 22,
   "metadata": {},
   "outputs": [
    {
     "data": {
      "text/html": [
       "<a href='df_new.csv' target='_blank'>df_new.csv</a><br>"
      ],
      "text/plain": [
       "/kaggle/working/df_new.csv"
      ]
     },
     "execution_count": 22,
     "metadata": {},
     "output_type": "execute_result"
    }
   ],
   "source": [
    "df_new.to_csv(r'df_new.csv')\n",
    "from IPython.display import FileLink\n",
    "FileLink(r'df_new.csv')"
   ]
  },
  {
   "cell_type": "code",
   "execution_count": null,
   "metadata": {},
   "outputs": [],
   "source": []
  }
 ],
 "metadata": {
  "kernelspec": {
   "display_name": "Python 3",
   "language": "python",
   "name": "python3"
  },
  "language_info": {
   "codemirror_mode": {
    "name": "ipython",
    "version": 3
   },
   "file_extension": ".py",
   "mimetype": "text/x-python",
   "name": "python",
   "nbconvert_exporter": "python",
   "pygments_lexer": "ipython3",
   "version": "3.6.6"
  }
 },
 "nbformat": 4,
 "nbformat_minor": 1
}
